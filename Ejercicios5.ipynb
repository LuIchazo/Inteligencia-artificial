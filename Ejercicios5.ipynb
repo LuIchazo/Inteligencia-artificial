{
  "nbformat": 4,
  "nbformat_minor": 0,
  "metadata": {
    "colab": {
      "provenance": []
    },
    "kernelspec": {
      "name": "python3",
      "display_name": "Python 3"
    },
    "language_info": {
      "name": "python"
    }
  },
  "cells": [
    {
      "cell_type": "code",
      "execution_count": null,
      "metadata": {
        "id": "12eWYtJZ4zE5"
      },
      "outputs": [],
      "source": [
        "import os\n",
        "import numpy as np\n",
        "import pandas as pd\n",
        "import tensorflow as tf\n",
        "\n",
        "from sklearn.model_selection import train_test_split\n",
        "from sklearn.preprocessing import OneHotEncoder, StandardScaler, LabelEncoder\n",
        "from sklearn.compose import ColumnTransformer\n",
        "from sklearn.metrics import classification_report, confusion_matrix, roc_auc_score"
      ]
    },
    {
      "cell_type": "code",
      "source": [
        "SEED = 42\n",
        "os.environ[\"PYTHONHASHSEED\"] = str(SEED)\n",
        "np.random.seed(SEED)\n",
        "tf.random.set_seed(SEED)\n",
        "print(\"Tensorflow:\", tf.__version__)"
      ],
      "metadata": {
        "colab": {
          "base_uri": "https://localhost:8080/"
        },
        "id": "piIeHTcg7W37",
        "outputId": "cebe9475-2d41-47b2-99af-6b8cb1643e51"
      },
      "execution_count": null,
      "outputs": [
        {
          "output_type": "stream",
          "name": "stdout",
          "text": [
            "Tensorflow: 2.19.0\n"
          ]
        }
      ]
    },
    {
      "cell_type": "code",
      "source": [
        "dataset = pd.read_csv(\"Churn_Modelling.csv\")\n",
        "X = dataset.iloc[:, 3:-1].copy()\n",
        "y = dataset.iloc[:, -1].values\n",
        "print(\"Shapes:\", X.shape, y.shape)"
      ],
      "metadata": {
        "colab": {
          "base_uri": "https://localhost:8080/"
        },
        "id": "f5I9R627-bgQ",
        "outputId": "7a2db947-1007-4016-a287-93b59b1b713d"
      },
      "execution_count": null,
      "outputs": [
        {
          "output_type": "stream",
          "name": "stdout",
          "text": [
            "Shapes: (10000, 10) (10000,)\n"
          ]
        }
      ]
    },
    {
      "cell_type": "code",
      "source": [
        "le_gender = LabelEncoder()\n",
        "X.loc[:, X.columns[2]] = le_gender.fit_transform(X.iloc[:, 2])\n",
        "ct = ColumnTransformer(\n",
        "    transformers=[(\"geo_ohe\", OneHotEncoder(handle_unknown=\"ignore\"), [1])],\n",
        "    remainder=\"passthrough\"\n",
        ")\n",
        "X_ohe = ct.fit_transform(X)\n",
        "X_ohe = np.asarray(X_ohe).astype(\"float32\")"
      ],
      "metadata": {
        "id": "dyKrkXb_AdP9"
      },
      "execution_count": null,
      "outputs": []
    },
    {
      "cell_type": "code",
      "source": [
        "X_train, X_test, y_train, y_test = train_test_split(\n",
        "    X_ohe, y, test_size=0.2, random_state=SEED, stratify=y\n",
        ")\n",
        "\n",
        "sc = StandardScaler(with_mean=False)\n",
        "X_train = sc.fit_transform(X_train).astype(\"float32\")\n",
        "X_test = sc.transform(X_test).astype(\"float32\")"
      ],
      "metadata": {
        "id": "eH-zzvjmEHVa"
      },
      "execution_count": null,
      "outputs": []
    },
    {
      "cell_type": "code",
      "source": [
        "from tensorflow.keras import layers, models, callbacks\n",
        "def build_model(input_dim):\n",
        "  model = models.Sequential([\n",
        "      layers.Dense(16, activation=\"relu\", input_shape=(input_dim,)),\n",
        "      layers.Dense(16, activation=\"relu\"),\n",
        "      layers.Dense(1, activation=\"sigmoid\")\n",
        "  ])\n",
        "  model.compile(\n",
        "      optimizer=\"adam\",\n",
        "      loss=\"binary_crossentropy\",\n",
        "      metrics=[\"accuracy\", tf.keras.metrics.AUC(name=\"auc\")]\n",
        "  )\n",
        "  return model\n",
        "ann = build_model(input_dim=X_train.shape[1])\n",
        "ann.summary()"
      ],
      "metadata": {
        "colab": {
          "base_uri": "https://localhost:8080/",
          "height": 281
        },
        "id": "K6jVhHQ7EitP",
        "outputId": "9f2d08d3-b04d-428d-a5cd-8bdd85c45c2a"
      },
      "execution_count": null,
      "outputs": [
        {
          "output_type": "stream",
          "name": "stderr",
          "text": [
            "/usr/local/lib/python3.12/dist-packages/keras/src/layers/core/dense.py:93: UserWarning: Do not pass an `input_shape`/`input_dim` argument to a layer. When using Sequential models, prefer using an `Input(shape)` object as the first layer in the model instead.\n",
            "  super().__init__(activity_regularizer=activity_regularizer, **kwargs)\n"
          ]
        },
        {
          "output_type": "display_data",
          "data": {
            "text/plain": [
              "\u001b[1mModel: \"sequential\"\u001b[0m\n"
            ],
            "text/html": [
              "<pre style=\"white-space:pre;overflow-x:auto;line-height:normal;font-family:Menlo,'DejaVu Sans Mono',consolas,'Courier New',monospace\"><span style=\"font-weight: bold\">Model: \"sequential\"</span>\n",
              "</pre>\n"
            ]
          },
          "metadata": {}
        },
        {
          "output_type": "display_data",
          "data": {
            "text/plain": [
              "┏━━━━━━━━━━━━━━━━━━━━━━━━━━━━━━━━━┳━━━━━━━━━━━━━━━━━━━━━━━━┳━━━━━━━━━━━━━━━┓\n",
              "┃\u001b[1m \u001b[0m\u001b[1mLayer (type)                   \u001b[0m\u001b[1m \u001b[0m┃\u001b[1m \u001b[0m\u001b[1mOutput Shape          \u001b[0m\u001b[1m \u001b[0m┃\u001b[1m \u001b[0m\u001b[1m      Param #\u001b[0m\u001b[1m \u001b[0m┃\n",
              "┡━━━━━━━━━━━━━━━━━━━━━━━━━━━━━━━━━╇━━━━━━━━━━━━━━━━━━━━━━━━╇━━━━━━━━━━━━━━━┩\n",
              "│ dense (\u001b[38;5;33mDense\u001b[0m)                   │ (\u001b[38;5;45mNone\u001b[0m, \u001b[38;5;34m16\u001b[0m)             │           \u001b[38;5;34m208\u001b[0m │\n",
              "├─────────────────────────────────┼────────────────────────┼───────────────┤\n",
              "│ dense_1 (\u001b[38;5;33mDense\u001b[0m)                 │ (\u001b[38;5;45mNone\u001b[0m, \u001b[38;5;34m16\u001b[0m)             │           \u001b[38;5;34m272\u001b[0m │\n",
              "├─────────────────────────────────┼────────────────────────┼───────────────┤\n",
              "│ dense_2 (\u001b[38;5;33mDense\u001b[0m)                 │ (\u001b[38;5;45mNone\u001b[0m, \u001b[38;5;34m1\u001b[0m)              │            \u001b[38;5;34m17\u001b[0m │\n",
              "└─────────────────────────────────┴────────────────────────┴───────────────┘\n"
            ],
            "text/html": [
              "<pre style=\"white-space:pre;overflow-x:auto;line-height:normal;font-family:Menlo,'DejaVu Sans Mono',consolas,'Courier New',monospace\">┏━━━━━━━━━━━━━━━━━━━━━━━━━━━━━━━━━┳━━━━━━━━━━━━━━━━━━━━━━━━┳━━━━━━━━━━━━━━━┓\n",
              "┃<span style=\"font-weight: bold\"> Layer (type)                    </span>┃<span style=\"font-weight: bold\"> Output Shape           </span>┃<span style=\"font-weight: bold\">       Param # </span>┃\n",
              "┡━━━━━━━━━━━━━━━━━━━━━━━━━━━━━━━━━╇━━━━━━━━━━━━━━━━━━━━━━━━╇━━━━━━━━━━━━━━━┩\n",
              "│ dense (<span style=\"color: #0087ff; text-decoration-color: #0087ff\">Dense</span>)                   │ (<span style=\"color: #00d7ff; text-decoration-color: #00d7ff\">None</span>, <span style=\"color: #00af00; text-decoration-color: #00af00\">16</span>)             │           <span style=\"color: #00af00; text-decoration-color: #00af00\">208</span> │\n",
              "├─────────────────────────────────┼────────────────────────┼───────────────┤\n",
              "│ dense_1 (<span style=\"color: #0087ff; text-decoration-color: #0087ff\">Dense</span>)                 │ (<span style=\"color: #00d7ff; text-decoration-color: #00d7ff\">None</span>, <span style=\"color: #00af00; text-decoration-color: #00af00\">16</span>)             │           <span style=\"color: #00af00; text-decoration-color: #00af00\">272</span> │\n",
              "├─────────────────────────────────┼────────────────────────┼───────────────┤\n",
              "│ dense_2 (<span style=\"color: #0087ff; text-decoration-color: #0087ff\">Dense</span>)                 │ (<span style=\"color: #00d7ff; text-decoration-color: #00d7ff\">None</span>, <span style=\"color: #00af00; text-decoration-color: #00af00\">1</span>)              │            <span style=\"color: #00af00; text-decoration-color: #00af00\">17</span> │\n",
              "└─────────────────────────────────┴────────────────────────┴───────────────┘\n",
              "</pre>\n"
            ]
          },
          "metadata": {}
        },
        {
          "output_type": "display_data",
          "data": {
            "text/plain": [
              "\u001b[1m Total params: \u001b[0m\u001b[38;5;34m497\u001b[0m (1.94 KB)\n"
            ],
            "text/html": [
              "<pre style=\"white-space:pre;overflow-x:auto;line-height:normal;font-family:Menlo,'DejaVu Sans Mono',consolas,'Courier New',monospace\"><span style=\"font-weight: bold\"> Total params: </span><span style=\"color: #00af00; text-decoration-color: #00af00\">497</span> (1.94 KB)\n",
              "</pre>\n"
            ]
          },
          "metadata": {}
        },
        {
          "output_type": "display_data",
          "data": {
            "text/plain": [
              "\u001b[1m Trainable params: \u001b[0m\u001b[38;5;34m497\u001b[0m (1.94 KB)\n"
            ],
            "text/html": [
              "<pre style=\"white-space:pre;overflow-x:auto;line-height:normal;font-family:Menlo,'DejaVu Sans Mono',consolas,'Courier New',monospace\"><span style=\"font-weight: bold\"> Trainable params: </span><span style=\"color: #00af00; text-decoration-color: #00af00\">497</span> (1.94 KB)\n",
              "</pre>\n"
            ]
          },
          "metadata": {}
        },
        {
          "output_type": "display_data",
          "data": {
            "text/plain": [
              "\u001b[1m Non-trainable params: \u001b[0m\u001b[38;5;34m0\u001b[0m (0.00 B)\n"
            ],
            "text/html": [
              "<pre style=\"white-space:pre;overflow-x:auto;line-height:normal;font-family:Menlo,'DejaVu Sans Mono',consolas,'Courier New',monospace\"><span style=\"font-weight: bold\"> Non-trainable params: </span><span style=\"color: #00af00; text-decoration-color: #00af00\">0</span> (0.00 B)\n",
              "</pre>\n"
            ]
          },
          "metadata": {}
        }
      ]
    },
    {
      "cell_type": "code",
      "source": [
        "cb = [\n",
        "    callbacks.EarlyStopping(patience=10, restore_best_weights=True, monitor=\"val_auc\", mode=\"max\"),\n",
        "    callbacks.ModelCheckpoint(\"best_ann.keras\", monitor=\"val_auc\", mode=\"max\", save_best_only=True),\n",
        "    callbacks.ReduceLROnPlateau(monitor=\"val_loss\", patience=5, factor=0.5)\n",
        "]"
      ],
      "metadata": {
        "id": "1MFzqFnZHnAY"
      },
      "execution_count": null,
      "outputs": []
    },
    {
      "cell_type": "code",
      "source": [
        "hist = ann.fit(\n",
        "    X_train, y_train,\n",
        "    validation_split=0.2,\n",
        "    epochs=200,\n",
        "    batch_size=32,\n",
        "    callbacks=cb,\n",
        "    verbose=1\n",
        ")"
      ],
      "metadata": {
        "colab": {
          "base_uri": "https://localhost:8080/"
        },
        "id": "6SbINQkDJh75",
        "outputId": "91df8a3b-e97d-47ae-d0e8-ee4388969e69"
      },
      "execution_count": null,
      "outputs": [
        {
          "output_type": "stream",
          "name": "stdout",
          "text": [
            "Epoch 1/200\n",
            "\u001b[1m200/200\u001b[0m \u001b[32m━━━━━━━━━━━━━━━━━━━━\u001b[0m\u001b[37m\u001b[0m \u001b[1m2s\u001b[0m 4ms/step - accuracy: 0.5950 - auc: 0.4679 - loss: 0.7381 - val_accuracy: 0.8000 - val_auc: 0.6442 - val_loss: 0.4793 - learning_rate: 0.0010\n",
            "Epoch 2/200\n",
            "\u001b[1m200/200\u001b[0m \u001b[32m━━━━━━━━━━━━━━━━━━━━\u001b[0m\u001b[37m\u001b[0m \u001b[1m1s\u001b[0m 3ms/step - accuracy: 0.7913 - auc: 0.6753 - loss: 0.4816 - val_accuracy: 0.8019 - val_auc: 0.7275 - val_loss: 0.4480 - learning_rate: 0.0010\n",
            "Epoch 3/200\n",
            "\u001b[1m200/200\u001b[0m \u001b[32m━━━━━━━━━━━━━━━━━━━━\u001b[0m\u001b[37m\u001b[0m \u001b[1m2s\u001b[0m 5ms/step - accuracy: 0.7997 - auc: 0.7386 - loss: 0.4530 - val_accuracy: 0.8106 - val_auc: 0.7491 - val_loss: 0.4346 - learning_rate: 0.0010\n",
            "Epoch 4/200\n",
            "\u001b[1m200/200\u001b[0m \u001b[32m━━━━━━━━━━━━━━━━━━━━\u001b[0m\u001b[37m\u001b[0m \u001b[1m1s\u001b[0m 6ms/step - accuracy: 0.8064 - auc: 0.7618 - loss: 0.4383 - val_accuracy: 0.8181 - val_auc: 0.7559 - val_loss: 0.4301 - learning_rate: 0.0010\n",
            "Epoch 5/200\n",
            "\u001b[1m200/200\u001b[0m \u001b[32m━━━━━━━━━━━━━━━━━━━━\u001b[0m\u001b[37m\u001b[0m \u001b[1m1s\u001b[0m 4ms/step - accuracy: 0.8105 - auc: 0.7685 - loss: 0.4325 - val_accuracy: 0.8231 - val_auc: 0.7591 - val_loss: 0.4273 - learning_rate: 0.0010\n",
            "Epoch 6/200\n",
            "\u001b[1m200/200\u001b[0m \u001b[32m━━━━━━━━━━━━━━━━━━━━\u001b[0m\u001b[37m\u001b[0m \u001b[1m1s\u001b[0m 3ms/step - accuracy: 0.8137 - auc: 0.7744 - loss: 0.4281 - val_accuracy: 0.8244 - val_auc: 0.7620 - val_loss: 0.4253 - learning_rate: 0.0010\n",
            "Epoch 7/200\n",
            "\u001b[1m200/200\u001b[0m \u001b[32m━━━━━━━━━━━━━━━━━━━━\u001b[0m\u001b[37m\u001b[0m \u001b[1m1s\u001b[0m 4ms/step - accuracy: 0.8151 - auc: 0.7808 - loss: 0.4236 - val_accuracy: 0.8275 - val_auc: 0.7680 - val_loss: 0.4216 - learning_rate: 0.0010\n",
            "Epoch 8/200\n",
            "\u001b[1m200/200\u001b[0m \u001b[32m━━━━━━━━━━━━━━━━━━━━\u001b[0m\u001b[37m\u001b[0m \u001b[1m1s\u001b[0m 3ms/step - accuracy: 0.8214 - auc: 0.7878 - loss: 0.4186 - val_accuracy: 0.8306 - val_auc: 0.7776 - val_loss: 0.4151 - learning_rate: 0.0010\n",
            "Epoch 9/200\n",
            "\u001b[1m200/200\u001b[0m \u001b[32m━━━━━━━━━━━━━━━━━━━━\u001b[0m\u001b[37m\u001b[0m \u001b[1m1s\u001b[0m 3ms/step - accuracy: 0.8238 - auc: 0.7952 - loss: 0.4129 - val_accuracy: 0.8381 - val_auc: 0.7860 - val_loss: 0.4082 - learning_rate: 0.0010\n",
            "Epoch 10/200\n",
            "\u001b[1m200/200\u001b[0m \u001b[32m━━━━━━━━━━━━━━━━━━━━\u001b[0m\u001b[37m\u001b[0m \u001b[1m1s\u001b[0m 3ms/step - accuracy: 0.8280 - auc: 0.8021 - loss: 0.4069 - val_accuracy: 0.8413 - val_auc: 0.7953 - val_loss: 0.4008 - learning_rate: 0.0010\n",
            "Epoch 11/200\n",
            "\u001b[1m200/200\u001b[0m \u001b[32m━━━━━━━━━━━━━━━━━━━━\u001b[0m\u001b[37m\u001b[0m \u001b[1m1s\u001b[0m 3ms/step - accuracy: 0.8334 - auc: 0.8102 - loss: 0.3999 - val_accuracy: 0.8469 - val_auc: 0.8058 - val_loss: 0.3924 - learning_rate: 0.0010\n",
            "Epoch 12/200\n",
            "\u001b[1m200/200\u001b[0m \u001b[32m━━━━━━━━━━━━━━━━━━━━\u001b[0m\u001b[37m\u001b[0m \u001b[1m1s\u001b[0m 3ms/step - accuracy: 0.8371 - auc: 0.8172 - loss: 0.3934 - val_accuracy: 0.8525 - val_auc: 0.8152 - val_loss: 0.3843 - learning_rate: 0.0010\n",
            "Epoch 13/200\n",
            "\u001b[1m200/200\u001b[0m \u001b[32m━━━━━━━━━━━━━━━━━━━━\u001b[0m\u001b[37m\u001b[0m \u001b[1m1s\u001b[0m 3ms/step - accuracy: 0.8406 - auc: 0.8235 - loss: 0.3873 - val_accuracy: 0.8562 - val_auc: 0.8220 - val_loss: 0.3773 - learning_rate: 0.0010\n",
            "Epoch 14/200\n",
            "\u001b[1m200/200\u001b[0m \u001b[32m━━━━━━━━━━━━━━━━━━━━\u001b[0m\u001b[37m\u001b[0m \u001b[1m2s\u001b[0m 4ms/step - accuracy: 0.8446 - auc: 0.8282 - loss: 0.3819 - val_accuracy: 0.8575 - val_auc: 0.8271 - val_loss: 0.3717 - learning_rate: 0.0010\n",
            "Epoch 15/200\n",
            "\u001b[1m200/200\u001b[0m \u001b[32m━━━━━━━━━━━━━━━━━━━━\u001b[0m\u001b[37m\u001b[0m \u001b[1m1s\u001b[0m 5ms/step - accuracy: 0.8465 - auc: 0.8325 - loss: 0.3773 - val_accuracy: 0.8600 - val_auc: 0.8317 - val_loss: 0.3668 - learning_rate: 0.0010\n",
            "Epoch 16/200\n",
            "\u001b[1m200/200\u001b[0m \u001b[32m━━━━━━━━━━━━━━━━━━━━\u001b[0m\u001b[37m\u001b[0m \u001b[1m1s\u001b[0m 4ms/step - accuracy: 0.8485 - auc: 0.8358 - loss: 0.3736 - val_accuracy: 0.8600 - val_auc: 0.8352 - val_loss: 0.3629 - learning_rate: 0.0010\n",
            "Epoch 17/200\n",
            "\u001b[1m200/200\u001b[0m \u001b[32m━━━━━━━━━━━━━━━━━━━━\u001b[0m\u001b[37m\u001b[0m \u001b[1m1s\u001b[0m 4ms/step - accuracy: 0.8497 - auc: 0.8382 - loss: 0.3709 - val_accuracy: 0.8606 - val_auc: 0.8378 - val_loss: 0.3599 - learning_rate: 0.0010\n",
            "Epoch 18/200\n",
            "\u001b[1m200/200\u001b[0m \u001b[32m━━━━━━━━━━━━━━━━━━━━\u001b[0m\u001b[37m\u001b[0m \u001b[1m1s\u001b[0m 3ms/step - accuracy: 0.8505 - auc: 0.8399 - loss: 0.3688 - val_accuracy: 0.8619 - val_auc: 0.8402 - val_loss: 0.3572 - learning_rate: 0.0010\n",
            "Epoch 19/200\n",
            "\u001b[1m200/200\u001b[0m \u001b[32m━━━━━━━━━━━━━━━━━━━━\u001b[0m\u001b[37m\u001b[0m \u001b[1m1s\u001b[0m 3ms/step - accuracy: 0.8511 - auc: 0.8415 - loss: 0.3668 - val_accuracy: 0.8650 - val_auc: 0.8415 - val_loss: 0.3554 - learning_rate: 0.0010\n",
            "Epoch 20/200\n",
            "\u001b[1m200/200\u001b[0m \u001b[32m━━━━━━━━━━━━━━━━━━━━\u001b[0m\u001b[37m\u001b[0m \u001b[1m1s\u001b[0m 3ms/step - accuracy: 0.8514 - auc: 0.8425 - loss: 0.3653 - val_accuracy: 0.8637 - val_auc: 0.8434 - val_loss: 0.3534 - learning_rate: 0.0010\n",
            "Epoch 21/200\n",
            "\u001b[1m200/200\u001b[0m \u001b[32m━━━━━━━━━━━━━━━━━━━━\u001b[0m\u001b[37m\u001b[0m \u001b[1m1s\u001b[0m 3ms/step - accuracy: 0.8519 - auc: 0.8443 - loss: 0.3638 - val_accuracy: 0.8644 - val_auc: 0.8444 - val_loss: 0.3519 - learning_rate: 0.0010\n",
            "Epoch 22/200\n",
            "\u001b[1m200/200\u001b[0m \u001b[32m━━━━━━━━━━━━━━━━━━━━\u001b[0m\u001b[37m\u001b[0m \u001b[1m1s\u001b[0m 3ms/step - accuracy: 0.8528 - auc: 0.8458 - loss: 0.3624 - val_accuracy: 0.8637 - val_auc: 0.8454 - val_loss: 0.3506 - learning_rate: 0.0010\n",
            "Epoch 23/200\n",
            "\u001b[1m200/200\u001b[0m \u001b[32m━━━━━━━━━━━━━━━━━━━━\u001b[0m\u001b[37m\u001b[0m \u001b[1m1s\u001b[0m 3ms/step - accuracy: 0.8532 - auc: 0.8474 - loss: 0.3609 - val_accuracy: 0.8650 - val_auc: 0.8463 - val_loss: 0.3495 - learning_rate: 0.0010\n",
            "Epoch 24/200\n",
            "\u001b[1m200/200\u001b[0m \u001b[32m━━━━━━━━━━━━━━━━━━━━\u001b[0m\u001b[37m\u001b[0m \u001b[1m1s\u001b[0m 3ms/step - accuracy: 0.8516 - auc: 0.8482 - loss: 0.3598 - val_accuracy: 0.8650 - val_auc: 0.8473 - val_loss: 0.3484 - learning_rate: 0.0010\n",
            "Epoch 25/200\n",
            "\u001b[1m200/200\u001b[0m \u001b[32m━━━━━━━━━━━━━━━━━━━━\u001b[0m\u001b[37m\u001b[0m \u001b[1m1s\u001b[0m 3ms/step - accuracy: 0.8526 - auc: 0.8490 - loss: 0.3589 - val_accuracy: 0.8656 - val_auc: 0.8481 - val_loss: 0.3476 - learning_rate: 0.0010\n",
            "Epoch 26/200\n",
            "\u001b[1m200/200\u001b[0m \u001b[32m━━━━━━━━━━━━━━━━━━━━\u001b[0m\u001b[37m\u001b[0m \u001b[1m1s\u001b[0m 3ms/step - accuracy: 0.8520 - auc: 0.8497 - loss: 0.3581 - val_accuracy: 0.8656 - val_auc: 0.8490 - val_loss: 0.3467 - learning_rate: 0.0010\n",
            "Epoch 27/200\n",
            "\u001b[1m200/200\u001b[0m \u001b[32m━━━━━━━━━━━━━━━━━━━━\u001b[0m\u001b[37m\u001b[0m \u001b[1m2s\u001b[0m 6ms/step - accuracy: 0.8536 - auc: 0.8504 - loss: 0.3571 - val_accuracy: 0.8656 - val_auc: 0.8497 - val_loss: 0.3459 - learning_rate: 0.0010\n",
            "Epoch 28/200\n",
            "\u001b[1m200/200\u001b[0m \u001b[32m━━━━━━━━━━━━━━━━━━━━\u001b[0m\u001b[37m\u001b[0m \u001b[1m1s\u001b[0m 4ms/step - accuracy: 0.8543 - auc: 0.8511 - loss: 0.3564 - val_accuracy: 0.8662 - val_auc: 0.8503 - val_loss: 0.3453 - learning_rate: 0.0010\n",
            "Epoch 29/200\n",
            "\u001b[1m200/200\u001b[0m \u001b[32m━━━━━━━━━━━━━━━━━━━━\u001b[0m\u001b[37m\u001b[0m \u001b[1m1s\u001b[0m 3ms/step - accuracy: 0.8544 - auc: 0.8521 - loss: 0.3555 - val_accuracy: 0.8662 - val_auc: 0.8509 - val_loss: 0.3449 - learning_rate: 0.0010\n",
            "Epoch 30/200\n",
            "\u001b[1m200/200\u001b[0m \u001b[32m━━━━━━━━━━━━━━━━━━━━\u001b[0m\u001b[37m\u001b[0m \u001b[1m1s\u001b[0m 3ms/step - accuracy: 0.8548 - auc: 0.8525 - loss: 0.3548 - val_accuracy: 0.8662 - val_auc: 0.8517 - val_loss: 0.3441 - learning_rate: 0.0010\n",
            "Epoch 31/200\n",
            "\u001b[1m200/200\u001b[0m \u001b[32m━━━━━━━━━━━━━━━━━━━━\u001b[0m\u001b[37m\u001b[0m \u001b[1m1s\u001b[0m 4ms/step - accuracy: 0.8543 - auc: 0.8532 - loss: 0.3541 - val_accuracy: 0.8669 - val_auc: 0.8523 - val_loss: 0.3434 - learning_rate: 0.0010\n",
            "Epoch 32/200\n",
            "\u001b[1m200/200\u001b[0m \u001b[32m━━━━━━━━━━━━━━━━━━━━\u001b[0m\u001b[37m\u001b[0m \u001b[1m1s\u001b[0m 3ms/step - accuracy: 0.8560 - auc: 0.8542 - loss: 0.3533 - val_accuracy: 0.8675 - val_auc: 0.8526 - val_loss: 0.3428 - learning_rate: 0.0010\n",
            "Epoch 33/200\n",
            "\u001b[1m200/200\u001b[0m \u001b[32m━━━━━━━━━━━━━━━━━━━━\u001b[0m\u001b[37m\u001b[0m \u001b[1m1s\u001b[0m 3ms/step - accuracy: 0.8559 - auc: 0.8546 - loss: 0.3525 - val_accuracy: 0.8669 - val_auc: 0.8533 - val_loss: 0.3422 - learning_rate: 0.0010\n",
            "Epoch 34/200\n",
            "\u001b[1m200/200\u001b[0m \u001b[32m━━━━━━━━━━━━━━━━━━━━\u001b[0m\u001b[37m\u001b[0m \u001b[1m1s\u001b[0m 4ms/step - accuracy: 0.8566 - auc: 0.8556 - loss: 0.3518 - val_accuracy: 0.8669 - val_auc: 0.8535 - val_loss: 0.3417 - learning_rate: 0.0010\n",
            "Epoch 35/200\n",
            "\u001b[1m200/200\u001b[0m \u001b[32m━━━━━━━━━━━━━━━━━━━━\u001b[0m\u001b[37m\u001b[0m \u001b[1m1s\u001b[0m 3ms/step - accuracy: 0.8568 - auc: 0.8561 - loss: 0.3512 - val_accuracy: 0.8669 - val_auc: 0.8541 - val_loss: 0.3411 - learning_rate: 0.0010\n",
            "Epoch 36/200\n",
            "\u001b[1m200/200\u001b[0m \u001b[32m━━━━━━━━━━━━━━━━━━━━\u001b[0m\u001b[37m\u001b[0m \u001b[1m1s\u001b[0m 3ms/step - accuracy: 0.8572 - auc: 0.8566 - loss: 0.3505 - val_accuracy: 0.8662 - val_auc: 0.8548 - val_loss: 0.3405 - learning_rate: 0.0010\n",
            "Epoch 37/200\n",
            "\u001b[1m200/200\u001b[0m \u001b[32m━━━━━━━━━━━━━━━━━━━━\u001b[0m\u001b[37m\u001b[0m \u001b[1m2s\u001b[0m 6ms/step - accuracy: 0.8583 - auc: 0.8568 - loss: 0.3500 - val_accuracy: 0.8669 - val_auc: 0.8545 - val_loss: 0.3405 - learning_rate: 0.0010\n",
            "Epoch 38/200\n",
            "\u001b[1m200/200\u001b[0m \u001b[32m━━━━━━━━━━━━━━━━━━━━\u001b[0m\u001b[37m\u001b[0m \u001b[1m1s\u001b[0m 5ms/step - accuracy: 0.8583 - auc: 0.8572 - loss: 0.3496 - val_accuracy: 0.8662 - val_auc: 0.8552 - val_loss: 0.3399 - learning_rate: 0.0010\n",
            "Epoch 39/200\n",
            "\u001b[1m200/200\u001b[0m \u001b[32m━━━━━━━━━━━━━━━━━━━━\u001b[0m\u001b[37m\u001b[0m \u001b[1m1s\u001b[0m 4ms/step - accuracy: 0.8586 - auc: 0.8577 - loss: 0.3492 - val_accuracy: 0.8669 - val_auc: 0.8556 - val_loss: 0.3392 - learning_rate: 0.0010\n",
            "Epoch 40/200\n",
            "\u001b[1m200/200\u001b[0m \u001b[32m━━━━━━━━━━━━━━━━━━━━\u001b[0m\u001b[37m\u001b[0m \u001b[1m1s\u001b[0m 3ms/step - accuracy: 0.8573 - auc: 0.8585 - loss: 0.3484 - val_accuracy: 0.8687 - val_auc: 0.8558 - val_loss: 0.3391 - learning_rate: 0.0010\n",
            "Epoch 41/200\n",
            "\u001b[1m200/200\u001b[0m \u001b[32m━━━━━━━━━━━━━━━━━━━━\u001b[0m\u001b[37m\u001b[0m \u001b[1m1s\u001b[0m 4ms/step - accuracy: 0.8581 - auc: 0.8595 - loss: 0.3476 - val_accuracy: 0.8687 - val_auc: 0.8560 - val_loss: 0.3386 - learning_rate: 0.0010\n",
            "Epoch 42/200\n",
            "\u001b[1m200/200\u001b[0m \u001b[32m━━━━━━━━━━━━━━━━━━━━\u001b[0m\u001b[37m\u001b[0m \u001b[1m1s\u001b[0m 3ms/step - accuracy: 0.8578 - auc: 0.8603 - loss: 0.3469 - val_accuracy: 0.8687 - val_auc: 0.8564 - val_loss: 0.3384 - learning_rate: 0.0010\n",
            "Epoch 43/200\n",
            "\u001b[1m200/200\u001b[0m \u001b[32m━━━━━━━━━━━━━━━━━━━━\u001b[0m\u001b[37m\u001b[0m \u001b[1m1s\u001b[0m 3ms/step - accuracy: 0.8581 - auc: 0.8604 - loss: 0.3465 - val_accuracy: 0.8694 - val_auc: 0.8568 - val_loss: 0.3380 - learning_rate: 0.0010\n",
            "Epoch 44/200\n",
            "\u001b[1m200/200\u001b[0m \u001b[32m━━━━━━━━━━━━━━━━━━━━\u001b[0m\u001b[37m\u001b[0m \u001b[1m1s\u001b[0m 4ms/step - accuracy: 0.8585 - auc: 0.8612 - loss: 0.3458 - val_accuracy: 0.8687 - val_auc: 0.8571 - val_loss: 0.3376 - learning_rate: 0.0010\n",
            "Epoch 45/200\n",
            "\u001b[1m200/200\u001b[0m \u001b[32m━━━━━━━━━━━━━━━━━━━━\u001b[0m\u001b[37m\u001b[0m \u001b[1m1s\u001b[0m 3ms/step - accuracy: 0.8585 - auc: 0.8621 - loss: 0.3452 - val_accuracy: 0.8687 - val_auc: 0.8575 - val_loss: 0.3373 - learning_rate: 0.0010\n",
            "Epoch 46/200\n",
            "\u001b[1m200/200\u001b[0m \u001b[32m━━━━━━━━━━━━━━━━━━━━\u001b[0m\u001b[37m\u001b[0m \u001b[1m1s\u001b[0m 3ms/step - accuracy: 0.8587 - auc: 0.8624 - loss: 0.3448 - val_accuracy: 0.8687 - val_auc: 0.8581 - val_loss: 0.3369 - learning_rate: 0.0010\n",
            "Epoch 47/200\n",
            "\u001b[1m200/200\u001b[0m \u001b[32m━━━━━━━━━━━━━━━━━━━━\u001b[0m\u001b[37m\u001b[0m \u001b[1m1s\u001b[0m 3ms/step - accuracy: 0.8572 - auc: 0.8627 - loss: 0.3442 - val_accuracy: 0.8681 - val_auc: 0.8581 - val_loss: 0.3366 - learning_rate: 0.0010\n",
            "Epoch 48/200\n",
            "\u001b[1m200/200\u001b[0m \u001b[32m━━━━━━━━━━━━━━━━━━━━\u001b[0m\u001b[37m\u001b[0m \u001b[1m2s\u001b[0m 5ms/step - accuracy: 0.8574 - auc: 0.8634 - loss: 0.3438 - val_accuracy: 0.8687 - val_auc: 0.8587 - val_loss: 0.3362 - learning_rate: 0.0010\n",
            "Epoch 49/200\n",
            "\u001b[1m200/200\u001b[0m \u001b[32m━━━━━━━━━━━━━━━━━━━━\u001b[0m\u001b[37m\u001b[0m \u001b[1m1s\u001b[0m 6ms/step - accuracy: 0.8575 - auc: 0.8637 - loss: 0.3435 - val_accuracy: 0.8687 - val_auc: 0.8591 - val_loss: 0.3356 - learning_rate: 0.0010\n",
            "Epoch 50/200\n",
            "\u001b[1m200/200\u001b[0m \u001b[32m━━━━━━━━━━━━━━━━━━━━\u001b[0m\u001b[37m\u001b[0m \u001b[1m1s\u001b[0m 3ms/step - accuracy: 0.8577 - auc: 0.8642 - loss: 0.3430 - val_accuracy: 0.8681 - val_auc: 0.8594 - val_loss: 0.3352 - learning_rate: 0.0010\n",
            "Epoch 51/200\n",
            "\u001b[1m200/200\u001b[0m \u001b[32m━━━━━━━━━━━━━━━━━━━━\u001b[0m\u001b[37m\u001b[0m \u001b[1m1s\u001b[0m 3ms/step - accuracy: 0.8584 - auc: 0.8646 - loss: 0.3426 - val_accuracy: 0.8669 - val_auc: 0.8607 - val_loss: 0.3344 - learning_rate: 0.0010\n",
            "Epoch 52/200\n",
            "\u001b[1m200/200\u001b[0m \u001b[32m━━━━━━━━━━━━━━━━━━━━\u001b[0m\u001b[37m\u001b[0m \u001b[1m1s\u001b[0m 4ms/step - accuracy: 0.8582 - auc: 0.8652 - loss: 0.3419 - val_accuracy: 0.8681 - val_auc: 0.8607 - val_loss: 0.3341 - learning_rate: 0.0010\n",
            "Epoch 53/200\n",
            "\u001b[1m200/200\u001b[0m \u001b[32m━━━━━━━━━━━━━━━━━━━━\u001b[0m\u001b[37m\u001b[0m \u001b[1m2s\u001b[0m 5ms/step - accuracy: 0.8583 - auc: 0.8655 - loss: 0.3416 - val_accuracy: 0.8669 - val_auc: 0.8608 - val_loss: 0.3341 - learning_rate: 0.0010\n",
            "Epoch 54/200\n",
            "\u001b[1m200/200\u001b[0m \u001b[32m━━━━━━━━━━━━━━━━━━━━\u001b[0m\u001b[37m\u001b[0m \u001b[1m1s\u001b[0m 4ms/step - accuracy: 0.8577 - auc: 0.8661 - loss: 0.3412 - val_accuracy: 0.8662 - val_auc: 0.8610 - val_loss: 0.3339 - learning_rate: 0.0010\n",
            "Epoch 55/200\n",
            "\u001b[1m200/200\u001b[0m \u001b[32m━━━━━━━━━━━━━━━━━━━━\u001b[0m\u001b[37m\u001b[0m \u001b[1m1s\u001b[0m 3ms/step - accuracy: 0.8575 - auc: 0.8663 - loss: 0.3407 - val_accuracy: 0.8662 - val_auc: 0.8611 - val_loss: 0.3336 - learning_rate: 0.0010\n",
            "Epoch 56/200\n",
            "\u001b[1m200/200\u001b[0m \u001b[32m━━━━━━━━━━━━━━━━━━━━\u001b[0m\u001b[37m\u001b[0m \u001b[1m1s\u001b[0m 4ms/step - accuracy: 0.8571 - auc: 0.8670 - loss: 0.3402 - val_accuracy: 0.8662 - val_auc: 0.8614 - val_loss: 0.3334 - learning_rate: 0.0010\n",
            "Epoch 57/200\n",
            "\u001b[1m200/200\u001b[0m \u001b[32m━━━━━━━━━━━━━━━━━━━━\u001b[0m\u001b[37m\u001b[0m \u001b[1m1s\u001b[0m 4ms/step - accuracy: 0.8576 - auc: 0.8672 - loss: 0.3399 - val_accuracy: 0.8656 - val_auc: 0.8616 - val_loss: 0.3333 - learning_rate: 0.0010\n",
            "Epoch 58/200\n",
            "\u001b[1m200/200\u001b[0m \u001b[32m━━━━━━━━━━━━━━━━━━━━\u001b[0m\u001b[37m\u001b[0m \u001b[1m1s\u001b[0m 4ms/step - accuracy: 0.8574 - auc: 0.8678 - loss: 0.3394 - val_accuracy: 0.8656 - val_auc: 0.8618 - val_loss: 0.3332 - learning_rate: 0.0010\n",
            "Epoch 59/200\n",
            "\u001b[1m200/200\u001b[0m \u001b[32m━━━━━━━━━━━━━━━━━━━━\u001b[0m\u001b[37m\u001b[0m \u001b[1m1s\u001b[0m 6ms/step - accuracy: 0.8577 - auc: 0.8680 - loss: 0.3390 - val_accuracy: 0.8656 - val_auc: 0.8613 - val_loss: 0.3333 - learning_rate: 0.0010\n",
            "Epoch 60/200\n",
            "\u001b[1m200/200\u001b[0m \u001b[32m━━━━━━━━━━━━━━━━━━━━\u001b[0m\u001b[37m\u001b[0m \u001b[1m1s\u001b[0m 6ms/step - accuracy: 0.8576 - auc: 0.8684 - loss: 0.3387 - val_accuracy: 0.8650 - val_auc: 0.8617 - val_loss: 0.3334 - learning_rate: 0.0010\n",
            "Epoch 61/200\n",
            "\u001b[1m200/200\u001b[0m \u001b[32m━━━━━━━━━━━━━━━━━━━━\u001b[0m\u001b[37m\u001b[0m \u001b[1m1s\u001b[0m 3ms/step - accuracy: 0.8580 - auc: 0.8688 - loss: 0.3384 - val_accuracy: 0.8662 - val_auc: 0.8615 - val_loss: 0.3332 - learning_rate: 0.0010\n",
            "Epoch 62/200\n",
            "\u001b[1m200/200\u001b[0m \u001b[32m━━━━━━━━━━━━━━━━━━━━\u001b[0m\u001b[37m\u001b[0m \u001b[1m1s\u001b[0m 4ms/step - accuracy: 0.8576 - auc: 0.8688 - loss: 0.3381 - val_accuracy: 0.8656 - val_auc: 0.8615 - val_loss: 0.3334 - learning_rate: 0.0010\n",
            "Epoch 63/200\n",
            "\u001b[1m200/200\u001b[0m \u001b[32m━━━━━━━━━━━━━━━━━━━━\u001b[0m\u001b[37m\u001b[0m \u001b[1m1s\u001b[0m 4ms/step - accuracy: 0.8583 - auc: 0.8690 - loss: 0.3380 - val_accuracy: 0.8650 - val_auc: 0.8619 - val_loss: 0.3331 - learning_rate: 0.0010\n",
            "Epoch 64/200\n",
            "\u001b[1m200/200\u001b[0m \u001b[32m━━━━━━━━━━━━━━━━━━━━\u001b[0m\u001b[37m\u001b[0m \u001b[1m1s\u001b[0m 4ms/step - accuracy: 0.8593 - auc: 0.8708 - loss: 0.3361 - val_accuracy: 0.8650 - val_auc: 0.8621 - val_loss: 0.3333 - learning_rate: 5.0000e-04\n",
            "Epoch 65/200\n",
            "\u001b[1m200/200\u001b[0m \u001b[32m━━━━━━━━━━━━━━━━━━━━\u001b[0m\u001b[37m\u001b[0m \u001b[1m1s\u001b[0m 4ms/step - accuracy: 0.8608 - auc: 0.8710 - loss: 0.3353 - val_accuracy: 0.8644 - val_auc: 0.8617 - val_loss: 0.3333 - learning_rate: 5.0000e-04\n",
            "Epoch 66/200\n",
            "\u001b[1m200/200\u001b[0m \u001b[32m━━━━━━━━━━━━━━━━━━━━\u001b[0m\u001b[37m\u001b[0m \u001b[1m1s\u001b[0m 4ms/step - accuracy: 0.8606 - auc: 0.8713 - loss: 0.3351 - val_accuracy: 0.8644 - val_auc: 0.8617 - val_loss: 0.3333 - learning_rate: 5.0000e-04\n",
            "Epoch 67/200\n",
            "\u001b[1m200/200\u001b[0m \u001b[32m━━━━━━━━━━━━━━━━━━━━\u001b[0m\u001b[37m\u001b[0m \u001b[1m1s\u001b[0m 4ms/step - accuracy: 0.8604 - auc: 0.8715 - loss: 0.3348 - val_accuracy: 0.8637 - val_auc: 0.8619 - val_loss: 0.3333 - learning_rate: 5.0000e-04\n",
            "Epoch 68/200\n",
            "\u001b[1m200/200\u001b[0m \u001b[32m━━━━━━━━━━━━━━━━━━━━\u001b[0m\u001b[37m\u001b[0m \u001b[1m2s\u001b[0m 5ms/step - accuracy: 0.8599 - auc: 0.8715 - loss: 0.3347 - val_accuracy: 0.8656 - val_auc: 0.8618 - val_loss: 0.3333 - learning_rate: 5.0000e-04\n",
            "Epoch 69/200\n",
            "\u001b[1m200/200\u001b[0m \u001b[32m━━━━━━━━━━━━━━━━━━━━\u001b[0m\u001b[37m\u001b[0m \u001b[1m1s\u001b[0m 4ms/step - accuracy: 0.8615 - auc: 0.8725 - loss: 0.3336 - val_accuracy: 0.8656 - val_auc: 0.8619 - val_loss: 0.3331 - learning_rate: 2.5000e-04\n",
            "Epoch 70/200\n",
            "\u001b[1m200/200\u001b[0m \u001b[32m━━━━━━━━━━━━━━━━━━━━\u001b[0m\u001b[37m\u001b[0m \u001b[1m2s\u001b[0m 6ms/step - accuracy: 0.8612 - auc: 0.8724 - loss: 0.3334 - val_accuracy: 0.8662 - val_auc: 0.8623 - val_loss: 0.3331 - learning_rate: 2.5000e-04\n",
            "Epoch 71/200\n",
            "\u001b[1m200/200\u001b[0m \u001b[32m━━━━━━━━━━━━━━━━━━━━\u001b[0m\u001b[37m\u001b[0m \u001b[1m1s\u001b[0m 7ms/step - accuracy: 0.8618 - auc: 0.8723 - loss: 0.3334 - val_accuracy: 0.8650 - val_auc: 0.8620 - val_loss: 0.3330 - learning_rate: 2.5000e-04\n",
            "Epoch 72/200\n",
            "\u001b[1m200/200\u001b[0m \u001b[32m━━━━━━━━━━━━━━━━━━━━\u001b[0m\u001b[37m\u001b[0m \u001b[1m2s\u001b[0m 4ms/step - accuracy: 0.8613 - auc: 0.8724 - loss: 0.3333 - val_accuracy: 0.8650 - val_auc: 0.8622 - val_loss: 0.3331 - learning_rate: 2.5000e-04\n",
            "Epoch 73/200\n",
            "\u001b[1m200/200\u001b[0m \u001b[32m━━━━━━━━━━━━━━━━━━━━\u001b[0m\u001b[37m\u001b[0m \u001b[1m1s\u001b[0m 5ms/step - accuracy: 0.8616 - auc: 0.8726 - loss: 0.3332 - val_accuracy: 0.8650 - val_auc: 0.8621 - val_loss: 0.3331 - learning_rate: 2.5000e-04\n",
            "Epoch 74/200\n",
            "\u001b[1m200/200\u001b[0m \u001b[32m━━━━━━━━━━━━━━━━━━━━\u001b[0m\u001b[37m\u001b[0m \u001b[1m1s\u001b[0m 4ms/step - accuracy: 0.8616 - auc: 0.8727 - loss: 0.3331 - val_accuracy: 0.8656 - val_auc: 0.8621 - val_loss: 0.3331 - learning_rate: 2.5000e-04\n",
            "Epoch 75/200\n",
            "\u001b[1m200/200\u001b[0m \u001b[32m━━━━━━━━━━━━━━━━━━━━\u001b[0m\u001b[37m\u001b[0m \u001b[1m1s\u001b[0m 5ms/step - accuracy: 0.8614 - auc: 0.8727 - loss: 0.3331 - val_accuracy: 0.8662 - val_auc: 0.8620 - val_loss: 0.3331 - learning_rate: 2.5000e-04\n",
            "Epoch 76/200\n",
            "\u001b[1m200/200\u001b[0m \u001b[32m━━━━━━━━━━━━━━━━━━━━\u001b[0m\u001b[37m\u001b[0m \u001b[1m1s\u001b[0m 5ms/step - accuracy: 0.8612 - auc: 0.8733 - loss: 0.3325 - val_accuracy: 0.8687 - val_auc: 0.8617 - val_loss: 0.3329 - learning_rate: 1.2500e-04\n",
            "Epoch 77/200\n",
            "\u001b[1m200/200\u001b[0m \u001b[32m━━━━━━━━━━━━━━━━━━━━\u001b[0m\u001b[37m\u001b[0m \u001b[1m1s\u001b[0m 4ms/step - accuracy: 0.8604 - auc: 0.8734 - loss: 0.3325 - val_accuracy: 0.8687 - val_auc: 0.8618 - val_loss: 0.3329 - learning_rate: 1.2500e-04\n",
            "Epoch 78/200\n",
            "\u001b[1m200/200\u001b[0m \u001b[32m━━━━━━━━━━━━━━━━━━━━\u001b[0m\u001b[37m\u001b[0m \u001b[1m1s\u001b[0m 4ms/step - accuracy: 0.8607 - auc: 0.8734 - loss: 0.3324 - val_accuracy: 0.8687 - val_auc: 0.8617 - val_loss: 0.3329 - learning_rate: 1.2500e-04\n",
            "Epoch 79/200\n",
            "\u001b[1m200/200\u001b[0m \u001b[32m━━━━━━━━━━━━━━━━━━━━\u001b[0m\u001b[37m\u001b[0m \u001b[1m1s\u001b[0m 5ms/step - accuracy: 0.8607 - auc: 0.8736 - loss: 0.3323 - val_accuracy: 0.8687 - val_auc: 0.8617 - val_loss: 0.3329 - learning_rate: 1.2500e-04\n",
            "Epoch 80/200\n",
            "\u001b[1m200/200\u001b[0m \u001b[32m━━━━━━━━━━━━━━━━━━━━\u001b[0m\u001b[37m\u001b[0m \u001b[1m1s\u001b[0m 6ms/step - accuracy: 0.8615 - auc: 0.8737 - loss: 0.3323 - val_accuracy: 0.8687 - val_auc: 0.8617 - val_loss: 0.3329 - learning_rate: 1.2500e-04\n"
          ]
        }
      ]
    },
    {
      "cell_type": "code",
      "source": [
        "y_proba = ann.predict(X_test).ravel()\n",
        "y_pred = (y_proba >= 0.5).astype(int)\n",
        "\n",
        "print(\"\\nMatriz de confusión:\\n\", confusion_matrix(y_test, y_pred))\n",
        "print(\"\\nReporte de clasificación:\\n\", classification_report(y_test, y_pred, digits=4))\n",
        "print(\"AUC:\", roc_auc_score(y_test, y_proba))"
      ],
      "metadata": {
        "colab": {
          "base_uri": "https://localhost:8080/"
        },
        "id": "AHbo7d-zMNGZ",
        "outputId": "db5b4102-63d8-4fa3-9e9a-a43c15e00a4d"
      },
      "execution_count": null,
      "outputs": [
        {
          "output_type": "stream",
          "name": "stdout",
          "text": [
            "\u001b[1m63/63\u001b[0m \u001b[32m━━━━━━━━━━━━━━━━━━━━\u001b[0m\u001b[37m\u001b[0m \u001b[1m0s\u001b[0m 1ms/step\n",
            "\n",
            "Matriz de confusión:\n",
            " [[1525   68]\n",
            " [ 211  196]]\n",
            "\n",
            "Reporte de clasificación:\n",
            "               precision    recall  f1-score   support\n",
            "\n",
            "           0     0.8785    0.9573    0.9162      1593\n",
            "           1     0.7424    0.4816    0.5842       407\n",
            "\n",
            "    accuracy                         0.8605      2000\n",
            "   macro avg     0.8104    0.7194    0.7502      2000\n",
            "weighted avg     0.8508    0.8605    0.8486      2000\n",
            "\n",
            "AUC: 0.8523562082884117\n"
          ]
        }
      ]
    },
    {
      "cell_type": "code",
      "source": [
        "sample_raw = pd.DataFrame([{\n",
        "    \"CreditScore\": 600,\n",
        "    \"Geography\": \"France\",\n",
        "    \"Gender\": \"Male\",\n",
        "    \"Age\": 40,\n",
        "    \"Tenure\": 3,\n",
        "    \"Balance\": 60000,\n",
        "    \"NumOfProducts\": 2,\n",
        "    \"HasCrCard\": 1,\n",
        "    \"IsActiveMember\": 1,\n",
        "    \"EstimatedSalary\": 50000\n",
        "}])\n",
        "sample_raw.loc[:, \"Gender\"] = le_gender.transform(sample_raw[\"Gender\"])\n",
        "sample_ohe = ct.transform(sample_raw)\n",
        "sample_scaled = sc.transform(sample_ohe).astype(\"float32\")\n",
        "\n",
        "proba = ann.predict(sample_scaled).item()\n",
        "print(f\"\\nProbabilidad de churn para el cliente ejemplo: {proba:.4f}\")\n",
        "print(\"Salir del banco\" if proba >= 0.5 else \"Permanecer en el banco\")\n"
      ],
      "metadata": {
        "colab": {
          "base_uri": "https://localhost:8080/"
        },
        "id": "C8zRQLPHNBeh",
        "outputId": "3293a853-60ae-41e3-9a04-7a7357ec0208"
      },
      "execution_count": null,
      "outputs": [
        {
          "output_type": "stream",
          "name": "stdout",
          "text": [
            "\u001b[1m1/1\u001b[0m \u001b[32m━━━━━━━━━━━━━━━━━━━━\u001b[0m\u001b[37m\u001b[0m \u001b[1m0s\u001b[0m 40ms/step\n",
            "\n",
            "Probabilidad de churn para el cliente ejemplo: 0.0488\n",
            "Permanecer en el banco\n"
          ]
        }
      ]
    }
  ]
}