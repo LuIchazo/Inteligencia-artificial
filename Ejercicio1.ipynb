{
  "nbformat": 4,
  "nbformat_minor": 0,
  "metadata": {
    "colab": {
      "provenance": []
    },
    "kernelspec": {
      "name": "python3",
      "display_name": "Python 3"
    },
    "language_info": {
      "name": "python"
    }
  },
  "cells": [
    {
      "cell_type": "code",
      "execution_count": null,
      "metadata": {
        "colab": {
          "base_uri": "https://localhost:8080/"
        },
        "id": "IEfghwuabnl1",
        "outputId": "ff49c28e-512d-4dcf-8175-ce0310389b35"
      },
      "outputs": [
        {
          "output_type": "stream",
          "name": "stdout",
          "text": [
            "Predicciones:  [0 0 0 1]\n",
            "Pesos:  [[2. 2.]]\n",
            "Termino independiente:  [-2.]\n"
          ]
        }
      ],
      "source": [
        "# Ejercicio 1: Perceptrón simple (AND lógico)\n",
        "import numpy as np\n",
        "from sklearn.linear_model import Perceptron\n",
        "\n",
        "# Datos de entrada (X) y salida esperada (y)\n",
        "# Entradas binarias (0 o 1)\n",
        "X = np.array([[0, 0], [0, 1], [1, 0], [1, 1]])\n",
        "y = np.array([0, 0, 0, 1]) # Salida del ADN lógico\n",
        "\n",
        "# Crear el perceptrón\n",
        "modelo = Perceptron(max_iter=1000, tol=1e-3)\n",
        "\n",
        "# Entrenar\n",
        "modelo.fit(X, y)\n",
        "\n",
        "# Probar\n",
        "print(\"Predicciones: \", modelo.predict(X))\n",
        "print(\"Pesos: \", modelo.coef_)\n",
        "print(\"Termino independiente: \", modelo.intercept_)"
      ]
    }
  ]
}