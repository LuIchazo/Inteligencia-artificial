{
  "nbformat": 4,
  "nbformat_minor": 0,
  "metadata": {
    "colab": {
      "provenance": [],
      "authorship_tag": "ABX9TyMGBGh++Jab9RO0gewS43HE",
      "include_colab_link": true
    },
    "kernelspec": {
      "name": "python3",
      "display_name": "Python 3"
    },
    "language_info": {
      "name": "python"
    }
  },
  "cells": [
    {
      "cell_type": "markdown",
      "metadata": {
        "id": "view-in-github",
        "colab_type": "text"
      },
      "source": [
        "<a href=\"https://colab.research.google.com/github/GabMer/Inteligencia-Artificial/blob/main/Introduccion_a_la_Inteligencia_Artificial.ipynb\" target=\"_parent\"><img src=\"https://colab.research.google.com/assets/colab-badge.svg\" alt=\"Open In Colab\"/></a>"
      ]
    },
    {
      "cell_type": "markdown",
      "source": [
        "11 de agosto del 2025"
      ],
      "metadata": {
        "id": "qf7WZRTLfTiH"
      }
    },
    {
      "cell_type": "code",
      "execution_count": null,
      "metadata": {
        "colab": {
          "base_uri": "https://localhost:8080/"
        },
        "id": "-jTWUHfqfMPn",
        "outputId": "dcebbd43-cdd6-4c3e-b7de-7298d352a7c7"
      },
      "outputs": [
        {
          "output_type": "stream",
          "name": "stdout",
          "text": [
            "Contratado\n",
            "No contratado\n"
          ]
        }
      ],
      "source": [
        "#Ejemplo de sesgo en datos de entrenamiento\n",
        "\n",
        "# Datos ficticios:(años de experiencia, genero, contratado: 1 = si, 0=no)\n",
        "# Nota: \"M\" = masculino , \"F\" = femenino\n",
        "datos =[(5, \"M\", 1),\n",
        "        (4, \"M\", 1),\n",
        "        (6, \"M\", 1),\n",
        "        (5, \"F\", 0),\n",
        "        (4, \"F\", 0),\n",
        "        (6, \"F\", 0)\n",
        "        ]\n",
        "\n",
        "# Funcio dimple para decidir si contratar (muy basica y sesgada)\n",
        "\n",
        "def decidir_contratacion(anios_exp,genero):\n",
        "  #Se entrena con datos en los que siempre se contrato a hombres\n",
        "  if genero == \"M\" and anios_exp >= 4:\n",
        "    return \"Contratado\"\n",
        "  else:\n",
        "    return \"No contratado\"\n",
        "\n",
        "#Probamos con dos candidatos identicos pero distinto genero\n",
        "print(decidir_contratacion(5,\"M\")) #Si\n",
        "print(decidir_contratacion(5,\"F\")) #No\n"
      ]
    }
  ]
}