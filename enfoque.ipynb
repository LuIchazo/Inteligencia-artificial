{
  "nbformat": 4,
  "nbformat_minor": 0,
  "metadata": {
    "colab": {
      "provenance": [],
      "authorship_tag": "ABX9TyPjA+NkUHf5QCbzn5oTKKYN",
      "include_colab_link": true
    },
    "kernelspec": {
      "name": "python3",
      "display_name": "Python 3"
    },
    "language_info": {
      "name": "python"
    }
  },
  "cells": [
    {
      "cell_type": "markdown",
      "metadata": {
        "id": "view-in-github",
        "colab_type": "text"
      },
      "source": [
        "<a href=\"https://colab.research.google.com/github/GabMer/Inteligencia-Artificial/blob/main/Enfoques.ipynb\" target=\"_parent\"><img src=\"https://colab.research.google.com/assets/colab-badge.svg\" alt=\"Open In Colab\"/></a>"
      ]
    },
    {
      "cell_type": "markdown",
      "source": [
        "11 de agosto del 2025"
      ],
      "metadata": {
        "id": "vEet5wrZPOYS"
      }
    },
    {
      "cell_type": "code",
      "execution_count": null,
      "metadata": {
        "id": "-nVbl2p2KndB",
        "colab": {
          "base_uri": "https://localhost:8080/"
        },
        "outputId": "25e6c454-ce19-42a2-f212-1b3e35c4720c"
      },
      "outputs": [
        {
          "output_type": "stream",
          "name": "stdout",
          "text": [
            "paciente 1:  posible gripe\n",
            "paciente 2:  posible meningitis\n",
            "paciente 3:  posible resfriado comun\n"
          ]
        }
      ],
      "source": [
        "# Ejemplo de EnfoqueSimbolico (GOFAI)\n",
        " #Sistema experto medico basicocon reglas logicas explicitas\n",
        "def diagnosticar(sintomas):\n",
        "  if \"fiebre\" in sintomas and \"tos\" in sintomas and \"dolor_garganta\" in sintomas:\n",
        "    return \"posible gripe\"\n",
        "  elif \"fiebre\" in sintomas and \"dolor_cabeza\" in sintomas and \"rigidez_cuello\" in sintomas:\n",
        "    return \"posible meningitis\"\n",
        "  elif \"estornudos\" in sintomas and \"congestion\" in sintomas:\n",
        "    return \"posible resfriado comun\"\n",
        "  elif \"dolor_estomago\" in sintomas and \"nauseas\" in sintomas:\n",
        "    return \"posible intoxicacion alimentaria\"\n",
        "  else:\n",
        "    return \"diagnostico no determinado\"\n",
        "\n",
        "\n",
        "paciente_1 = [\"fiebre\", \"tos\", \"dolor_garganta\"]\n",
        "paciente_2 = [\"fiebre\", \"dolor_cabeza\", \"rigidez_cuello\"]\n",
        "paciente_3 = [\"estornudos\", \"congestion\"]\n",
        "\n",
        "print(\"paciente 1: \", diagnosticar(paciente_1))\n",
        "print(\"paciente 2: \", diagnosticar(paciente_2))\n",
        "print(\"paciente 3: \", diagnosticar(paciente_3))"
      ]
    },
    {
      "cell_type": "markdown",
      "source": [
        "**Naive Bayes**"
      ],
      "metadata": {
        "id": "EtWeqTWENzso"
      }
    },
    {
      "cell_type": "code",
      "source": [
        "from sklearn.datasets import load_breast_cancer\n",
        "from sklearn.model_selection import train_test_split\n",
        "from sklearn.naive_bayes import GaussianNB\n",
        "from sklearn.metrics import accuracy_score, classification_report, confusion_matrix #falsos negativos\n",
        "\n",
        "# Cargar el conjunto de datos de cáncer de mama\n",
        "X,y = load_breast_cancer(return_X_y=True)\n",
        "\n",
        "X_train, X_test, y_train, y_test = train_test_split(X, y, test_size=0.25, random_state=42, stratify=y)\n",
        "\n",
        "nb= GaussianNB()\n",
        "\n",
        "# Entrenar el clasificador\n",
        "nb.fit(X_train, y_train)\n",
        "\n",
        "# Realizar predicciones en el conjunto de prueba\n",
        "y_pred = nb.predict(X_test)\n",
        "\n",
        "print(\"Naive Bayes - accuracy:\", accuracy_score(y_test, y_pred))\n",
        "print(\"Naive Bayes - confusion matrix:\\n\", confusion_matrix(y_test, y_pred))\n",
        "print(\"Naive Bayes - classification report:\\n\", classification_report(y_test, y_pred))\n",
        "#"
      ],
      "metadata": {
        "colab": {
          "base_uri": "https://localhost:8080/"
        },
        "id": "S8_XDT9HNzIs",
        "outputId": "484680a5-2760-4cf8-b40a-cd8d84aaa19a"
      },
      "execution_count": null,
      "outputs": [
        {
          "output_type": "stream",
          "name": "stdout",
          "text": [
            "Naive Bayes - accuracy: 0.9370629370629371\n",
            "Naive Bayes - confusion matrix:\n",
            " [[46  7]\n",
            " [ 2 88]]\n",
            "Naive Bayes - classification report:\n",
            "               precision    recall  f1-score   support\n",
            "\n",
            "           0       0.96      0.87      0.91        53\n",
            "           1       0.93      0.98      0.95        90\n",
            "\n",
            "    accuracy                           0.94       143\n",
            "   macro avg       0.94      0.92      0.93       143\n",
            "weighted avg       0.94      0.94      0.94       143\n",
            "\n"
          ]
        }
      ]
    },
    {
      "cell_type": "code",
      "source": [
        "#Clasificacion con Red NEuronal (MLP) en el mismo dataset\n",
        "from sklearn.neural_network import MLPClassifier\n",
        "from sklearn.preprocessing import StandardScaler\n",
        "from sklearn.pipeline import make_pipeline\n",
        "\n",
        "mlp= make_pipeline(\n",
        "    StandardScaler(),\n",
        "    MLPClassifier(hidden_layer_sizes=(32,16),\n",
        "                  activation=\"relu\",\n",
        "                  solver=\"adam\",\n",
        "                  max_iter=500,\n",
        "                  random_state=42)\n",
        ")\n",
        "\n",
        "mlp.fit(X_train, y_train)\n",
        "\n",
        "y_pred = mlp.predict(X_test)\n",
        "\n",
        "print(\"MLP - accuracy:\", accuracy_score(y_test, y_pred))\n",
        "print (confusion_matrix(y_test, y_pred))\n",
        "print(classification_report(y_test, y_pred))\n",
        "print(classification_report(y_test, y_pred))\n"
      ],
      "metadata": {
        "colab": {
          "base_uri": "https://localhost:8080/"
        },
        "id": "rIfEglOLP_Yl",
        "outputId": "0ae8c35a-94d2-4bfd-ec02-a6ec3d49b712"
      },
      "execution_count": null,
      "outputs": [
        {
          "output_type": "stream",
          "name": "stdout",
          "text": [
            "MLP - accuracy: 0.965034965034965\n",
            "[[52  1]\n",
            " [ 4 86]]\n",
            "              precision    recall  f1-score   support\n",
            "\n",
            "           0       0.93      0.98      0.95        53\n",
            "           1       0.99      0.96      0.97        90\n",
            "\n",
            "    accuracy                           0.97       143\n",
            "   macro avg       0.96      0.97      0.96       143\n",
            "weighted avg       0.97      0.97      0.97       143\n",
            "\n",
            "              precision    recall  f1-score   support\n",
            "\n",
            "           0       0.93      0.98      0.95        53\n",
            "           1       0.99      0.96      0.97        90\n",
            "\n",
            "    accuracy                           0.97       143\n",
            "   macro avg       0.96      0.97      0.96       143\n",
            "weighted avg       0.97      0.97      0.97       143\n",
            "\n"
          ]
        }
      ]
    },
    {
      "cell_type": "code",
      "source": [
        "#Programacion Genetica\n",
        "!pip install deap --quiet #para instalar la libreria de aptitud\n",
        "\n",
        "import operator, random\n",
        "import numpy as np\n",
        "from deap import algorithms, base, creator, tools, gp\n",
        "from sklearn.datasets import load_breast_cancer\n",
        "from sklearn.model_selection import train_test_split\n",
        "from sklearn.metrics import accuracy_score\n",
        "\n",
        "# 1) Dataset real\n",
        "X, y = load_breast_cancer(return_X_y=True)\n",
        "X_train, X_test, y_train, y_test = train_test_split(\n",
        "    X, y, test_size=0.25, random_state=42, stratify=y\n",
        ")\n",
        "\n",
        "# 2) Definición de operadores básicos\n",
        "pset = gp.PrimitiveSet(\"MAIN\", X.shape[1])\n",
        "pset.addPrimitive(operator.add, 2)\n",
        "pset.addPrimitive(operator.sub, 2)\n",
        "pset.addPrimitive(operator.mul, 2)\n",
        "pset.addPrimitive(operator.neg, 1)\n",
        "pset.addPrimitive(np.sin, 1)\n",
        "pset.addPrimitive(np.cos, 1)\n",
        "pset.addEphemeralConstant(\"rand\", lambda: random.uniform(-1, 1))\n",
        "\n",
        "# 3) Definición de tipos de individuo y fitness\n",
        "creator.create(\"FitnessMax\", base.Fitness, weights=(1.0,))\n",
        "creator.create(\"Individual\", gp.PrimitiveTree, fitness=creator.FitnessMax)\n",
        "\n",
        "toolbox= base.Toolbox()\n",
        "toolbox.register(\"expr\", gp.genHalfAndHalf, pset=pset, min_=1, max_=2)\n",
        "toolbox.register(\"individual\", tools.initIterate, creator.Individual, toolbox.expr)\n",
        "toolbox.register(\"population\", tools.initRepeat, list, toolbox.individual)\n",
        "\n",
        "# 4) Evaluacion usamos accuracy como fitness\n",
        "def eval_individual(individual):\n",
        "    func = toolbox.compile(expr=individual)\n",
        "    preds = [1 if func(*x) > 0 else 0 for x in X_train]\n",
        "    return accuracy_score(y_train, preds),\n",
        "\n",
        "toolbox.register(\"compile\", gp.compile, pset=pset)\n",
        "toolbox.register(\"evaluate\", eval_individual)\n",
        "toolbox.register(\"mate\", gp.cxOnePoint)\n",
        "toolbox.register(\"mutate\", gp.mutUniform, expr=toolbox.expr, pset=pset)\n",
        "toolbox.register(\"select\", tools.selTournament, tournsize=3)\n",
        "\n",
        "# 5) Evolucion\n",
        "pop = toolbox.population(n=50)\n",
        "for gen in range(10):\n",
        "    offspring = tools.selTournament(pop, len(pop), tournsize=3)\n",
        "    offspring = list(map(toolbox.clone, offspring))\n",
        "    for child1, child2 in zip(offspring[::2], offspring[1::2]):\n",
        "        if random.random() < 0.5:\n",
        "            toolbox.mate(child1, child2)\n",
        "    for mutant in offspring:\n",
        "        if random.random() < 0.2:\n",
        "            toolbox.mutate(mutant)\n",
        "    for ind in offspring:\n",
        "        ind.fitness.values = toolbox.evaluate(ind)\n",
        "    pop[:]= offspring\n",
        "    print(f\"Generacion {gen}: Mejor fitness = {max(ind.fitness.values[0] for ind in pop)}\")\n",
        "\n",
        "# 6) Mejor individuo y prueba\n",
        "best_ind = tools.selBest(pop, k=1)[0]\n",
        "func = toolbox.compile(expr=best_ind)\n",
        "y_pred = [1 if func(*x) > 0 else 0 for x in X_test]\n",
        "print(\"\\nAccuracy en test:\", accuracy_score(y_test, y_pred))\n",
        "print(\"\\n MEjor formula encontrada:\", best_ind)"
      ],
      "metadata": {
        "colab": {
          "base_uri": "https://localhost:8080/"
        },
        "id": "ds-XapEiTeWG",
        "outputId": "19451643-5d65-43f9-ebdf-64b7b048b3c0"
      },
      "execution_count": null,
      "outputs": [
        {
          "output_type": "stream",
          "name": "stderr",
          "text": [
            "/usr/local/lib/python3.11/dist-packages/deap/gp.py:257: RuntimeWarning: Ephemeral rand function cannot be pickled because its generating function is a lambda function. Use functools.partial instead.\n",
            "  warnings.warn(\"Ephemeral {name} function cannot be \"\n",
            "/usr/local/lib/python3.11/dist-packages/deap/creator.py:185: RuntimeWarning: A class named 'FitnessMax' has already been created and it will be overwritten. Consider deleting previous creation of that class or rename it.\n",
            "  warnings.warn(\"A class named '{0}' has already been created and it \"\n",
            "/usr/local/lib/python3.11/dist-packages/deap/creator.py:185: RuntimeWarning: A class named 'Individual' has already been created and it will be overwritten. Consider deleting previous creation of that class or rename it.\n",
            "  warnings.warn(\"A class named '{0}' has already been created and it \"\n"
          ]
        },
        {
          "output_type": "stream",
          "name": "stdout",
          "text": [
            "Generacion 0: Mejor fitness = 0.7370892018779343\n",
            "Generacion 1: Mejor fitness = 0.7370892018779343\n",
            "Generacion 2: Mejor fitness = 0.7370892018779343\n",
            "Generacion 3: Mejor fitness = 0.7488262910798122\n",
            "Generacion 4: Mejor fitness = 0.7370892018779343\n",
            "Generacion 5: Mejor fitness = 0.7488262910798122\n",
            "Generacion 6: Mejor fitness = 0.755868544600939\n",
            "Generacion 7: Mejor fitness = 0.7769953051643192\n",
            "Generacion 8: Mejor fitness = 0.7793427230046949\n",
            "Generacion 9: Mejor fitness = 0.7793427230046949\n",
            "\n",
            "Accuracy en test: 0.7342657342657343\n",
            "\n",
            " MEjor formula encontrada: mul(cos(ARG10), sub(ARG8, ARG27))\n"
          ]
        }
      ]
    },
    {
      "cell_type": "markdown",
      "source": [
        "Programacion genetica, usa el concepto de mutacion, busca distintos caminos para ser mas exacto, pasa de generacion en generacion, buscando cual es el mejor de los caminos."
      ],
      "metadata": {
        "id": "3Tul3TWKTvcf"
      }
    }
  ]
}